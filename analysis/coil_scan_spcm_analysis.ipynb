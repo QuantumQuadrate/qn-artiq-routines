{
 "cells": [
  {
   "cell_type": "code",
   "execution_count": 2,
   "id": "329c181a",
   "metadata": {},
   "outputs": [],
   "source": [
    "\"\"\"coil scan analysis\"\"\"\n",
    "\n",
    "from matplotlib import pyplot as plt\n",
    "import csv\n",
    "import numpy as np"
   ]
  },
  {
   "cell_type": "code",
   "execution_count": 126,
   "id": "61c5112d",
   "metadata": {},
   "outputs": [],
   "source": [
    "datafile = \"C:\\\\Networking Experiment\\\\artiq codes\\\\artiq-master\\\\results\\\\20230506_163411_coil_scan.csv\"\n",
    "has_header = True\n",
    "with open(datafile, 'r', newline='') as f:\n",
    "    reader = csv.reader(f)\n",
    "    if has_header:\n",
    "        header = reader.__next__()\n",
    "    data = [row for row in reader]#[:5]\n",
    "    f.close()\n",
    "\n",
    "data = np.array(data,float).transpose()\n",
    "# print(data)\n",
    "rows,cols = data.shape"
   ]
  },
  {
   "cell_type": "code",
   "execution_count": 127,
   "id": "59784af4",
   "metadata": {},
   "outputs": [],
   "source": [
    "counts = data[0]\n",
    "pd_data = data[-1] # the cooling laser power monitor\n",
    "coil_data = data[1:-1]#[:12800] # just as a check. should make two figures\n",
    "\n",
    "zbottom_data, ztop_data, xdata, ydata = coil_data\n",
    "\n",
    "zbottom_steps = len(list(set(zbottom_data)))\n",
    "ztop_steps = len(list(set(zbottom_data)))\n",
    "xsteps = len(list(set(xdata)))\n",
    "ysteps = len(list(set(ydata)))"
   ]
  },
  {
   "cell_type": "code",
   "execution_count": 67,
   "id": "4a47d524",
   "metadata": {},
   "outputs": [],
   "source": [
    "nrows = 4\n",
    "ncols = 4\n",
    "assert zbottom_steps % nrows == 0, \"zbottom_steps should be divisible by nrows for the grid of plots\"\n",
    "assert ztop_steps % ncols == 0, \"ztop_steps should be divisible by ncols for the grid of plots\""
   ]
  },
  {
   "cell_type": "code",
   "execution_count": 161,
   "id": "74f89466",
   "metadata": {
    "scrolled": false
   },
   "outputs": [],
   "source": [
    "# this plotting procedure assumes that the order of the loops is ztop, zbottom, x, yb\n",
    "\n",
    "ymin = xmin = 0\n",
    "xmax = ymax = xsteps\n",
    "\n",
    "maxcounts = max(counts)\n",
    "mincounts = min(counts)\n",
    "\n",
    "for k in range(ztop_steps//ncols):\n",
    "    for l in range(zbottom_steps//nrows):\n",
    "\n",
    "        fig, axes = plt.subplots(nrows=nrows,ncols=ncols)\n",
    "\n",
    "        for col in range(ncols):\n",
    "            for row in range(nrows):\n",
    "\n",
    "                ax = axes[row,col]\n",
    "\n",
    "                ztop_step = k*ncols + col\n",
    "                zbottom_step = l*nrows + row\n",
    "                \n",
    "                # the step where we start counting from to get the counts at x and y steps\n",
    "                # for a given ztop,zbottom\n",
    "                step0 = ysteps*xsteps*zbottom_steps*ztop_step + zbottom_step*ysteps*xsteps\n",
    "                                \n",
    "                imdata = counts[step0:step0+xsteps*ysteps].reshape((xsteps,ysteps))\n",
    "                \n",
    "                im = ax.imshow(imdata, extent=[ymin, ymax, xmin, xmax], vmin=mincounts, vmax=maxcounts)\n",
    "                ax.set_aspect((ymax-ymin)/(xmax-xmin))\n",
    "                ax.set_title(f\"{step0} - {step0+xsteps*ysteps}\",fontsize=8)\n",
    "#                 ax.set_xticks(ax.get_xticks(),fontsize=6)\n",
    "                if col > 0:\n",
    "                    ax.set_yticks([])\n",
    "                if row < 3:\n",
    "                    ax.set_xticks([])\n",
    "\n",
    "        fig.tight_layout()\n",
    "        fig.subplots_adjust(right=0.8)\n",
    "        cbar_ax = fig.add_axes([0.85, 0.15, 0.05, 0.7])\n",
    "        fig.colorbar(im, cax=cbar_ax)\n",
    "\n",
    "        fig.text(0.4, 0, 'X steps', ha='center', va='center')\n",
    "        fig.text(-0.0, 0.5, 'Y steps', ha='center', va='center', rotation='vertical')\n",
    "        fig.dpi = 150\n",
    "        plt.savefig(datafile[:-4] + '_3D_' + str(k*(1+ncols) + l) + '.png', bbox_inches='tight')\n",
    "        plt.close()\n",
    "\n",
    "#     break"
   ]
  },
  {
   "cell_type": "code",
   "execution_count": 188,
   "id": "d6bc329c",
   "metadata": {
    "scrolled": false
   },
   "outputs": [],
   "source": [
    "# plot the photodiode voltage and counts. produce same number of figures as above\n",
    "\n",
    "minpd = min(pd_data)\n",
    "maxpd = max(pd_data)\n",
    "for i in range(len(counts)//(xsteps*ysteps*ncols*nrows)):\n",
    "    fig,axes = plt.subplots(nrows=2,ncols=1,sharex=True)\n",
    "    ax,ax2 = axes\n",
    "    imin = i*nrows*ncols*xsteps*ysteps\n",
    "    imax = (i+1)*nrows*ncols*xsteps*ysteps\n",
    "    ax.plot(counts[imin:imax])\n",
    "    ax.set_ylim((mincounts,maxcounts))\n",
    "    ax.set_ylabel(\"SPCM counts\")\n",
    "    ax2.plot(pd_data[imin:imax])\n",
    "    ax2.set_ylim((minpd,maxpd))\n",
    "    ax2.set_ylabel(\"PD voltage\")\n",
    "    ax.set_title(f\"steps i0={imin} to if={imax}\")\n",
    "    ax2.set_xlabel(\"steps + i0\")\n",
    "    plt.savefig(datafile[:-4] + '_counts_and_pd_' + str(i) + '.png', bbox_inches='tight')\n",
    "    plt.close()"
   ]
  },
  {
   "cell_type": "markdown",
   "id": "08861252",
   "metadata": {},
   "source": [
    "## tests"
   ]
  },
  {
   "cell_type": "code",
   "execution_count": 14,
   "id": "1a81ff02",
   "metadata": {},
   "outputs": [
    {
     "data": {
      "text/plain": [
       "0"
      ]
     },
     "execution_count": 14,
     "metadata": {},
     "output_type": "execute_result"
    }
   ],
   "source": [
    "i=0\n",
    "j=0\n",
    "k=0\n",
    "l=0\n",
    "row=0\n",
    "col=2\n",
    "i*xsteps + j + k*xsteps*ysteps*col + "
   ]
  },
  {
   "cell_type": "code",
   "execution_count": 36,
   "id": "37ae7959",
   "metadata": {},
   "outputs": [
    {
     "data": {
      "text/plain": [
       "159980.0"
      ]
     },
     "execution_count": 36,
     "metadata": {},
     "output_type": "execute_result"
    }
   ],
   "source": [
    "i=19\n",
    "j=19\n",
    "k=19/4\n",
    "l=19/4\n",
    "row=4\n",
    "col=4\n",
    "i*xsteps + j + k*xsteps*ysteps*col + l*(i*xsteps + j + k*xsteps*ysteps*col)*row"
   ]
  },
  {
   "cell_type": "code",
   "execution_count": 31,
   "id": "f49d58e8",
   "metadata": {},
   "outputs": [
    {
     "data": {
      "text/plain": [
       "160000"
      ]
     },
     "execution_count": 31,
     "metadata": {},
     "output_type": "execute_result"
    }
   ],
   "source": [
    "20**4"
   ]
  },
  {
   "cell_type": "code",
   "execution_count": 124,
   "id": "a6eee88c",
   "metadata": {},
   "outputs": [
    {
     "data": {
      "text/plain": [
       "0"
      ]
     },
     "execution_count": 124,
     "metadata": {},
     "output_type": "execute_result"
    }
   ],
   "source": [
    "zbottom_steps//nrows"
   ]
  },
  {
   "cell_type": "code",
   "execution_count": 64,
   "id": "0353ffca",
   "metadata": {},
   "outputs": [
    {
     "data": {
      "text/plain": [
       "(5, 5)"
      ]
     },
     "execution_count": 64,
     "metadata": {},
     "output_type": "execute_result"
    }
   ],
   "source": [
    "ztop_steps//ncols,zbottom_steps//nrows"
   ]
  },
  {
   "cell_type": "code",
   "execution_count": 160,
   "id": "d4509a48",
   "metadata": {},
   "outputs": [
    {
     "name": "stdout",
     "output_type": "stream",
     "text": [
      "0 0 0\n",
      "1 0 1\n",
      "2 0 2\n",
      "3 0 3\n",
      "4 0 4\n",
      "5 1 0\n",
      "6 1 1\n",
      "7 1 2\n",
      "8 1 3\n",
      "9 1 4\n",
      "10 2 0\n",
      "11 2 1\n",
      "12 2 2\n",
      "13 2 3\n",
      "14 2 4\n",
      "15 3 0\n",
      "16 3 1\n",
      "17 3 2\n",
      "18 3 3\n",
      "19 3 4\n",
      "20 4 0\n",
      "21 4 1\n",
      "22 4 2\n",
      "23 4 3\n",
      "24 4 4\n"
     ]
    }
   ],
   "source": [
    "for k in range(ztop_steps//ncols):\n",
    "    for l in range(zbottom_steps//nrows):\n",
    "        print(k*(1+ncols) + l, k, l)"
   ]
  },
  {
   "cell_type": "code",
   "execution_count": null,
   "id": "843b07b7",
   "metadata": {},
   "outputs": [],
   "source": [
    "for k in range(ztop_steps//ncols):\n",
    "    for col in range(ncols):\n",
    "        print(k*ncols+col)"
   ]
  },
  {
   "cell_type": "code",
   "execution_count": 83,
   "id": "594a46ea",
   "metadata": {},
   "outputs": [
    {
     "name": "stdout",
     "output_type": "stream",
     "text": [
      "159600 160000\n"
     ]
    }
   ],
   "source": [
    "k = l = 4\n",
    "col = row = 3\n",
    "ztop_step = k*ncols + col\n",
    "zbottom_step = l*nrows + row\n",
    "\n",
    "# the step where we start counting from to get the counts at x and y steps\n",
    "# for a given ztop,zbottom\n",
    "step0 = ysteps*xsteps*zbottom_steps*ztop_step + zbottom_step*ysteps*xsteps\n",
    "print(step0+20**2, 20**4)"
   ]
  },
  {
   "cell_type": "code",
   "execution_count": 129,
   "id": "c09ef82c",
   "metadata": {},
   "outputs": [
    {
     "name": "stdout",
     "output_type": "stream",
     "text": [
      "0\n"
     ]
    }
   ],
   "source": [
    "k = 0\n",
    "l = 0\n",
    "col = 0\n",
    "row = 0\n",
    "ztop_step = k*ncols + col\n",
    "zbottom_step = l*nrows + row\n",
    "\n",
    "# the step where we start counting from to get the counts at x and y steps\n",
    "# for a given ztop,zbottom\n",
    "step0 = ysteps*xsteps*zbottom_steps*ztop_step + zbottom_step*ysteps*xsteps\n",
    "print(step0)"
   ]
  },
  {
   "cell_type": "code",
   "execution_count": 130,
   "id": "a1974151",
   "metadata": {},
   "outputs": [
    {
     "data": {
      "text/plain": [
       "20"
      ]
     },
     "execution_count": 130,
     "metadata": {},
     "output_type": "execute_result"
    }
   ],
   "source": [
    "zbottom_steps"
   ]
  },
  {
   "cell_type": "code",
   "execution_count": 98,
   "id": "a6cb4498",
   "metadata": {},
   "outputs": [
    {
     "data": {
      "text/plain": [
       "Text(0, 0.5, 'y')"
      ]
     },
     "execution_count": 98,
     "metadata": {},
     "output_type": "execute_result"
    },
    {
     "data": {
      "image/png": "[encoded data removed]",
      "text/plain": [
       "<Figure size 640x480 with 1 Axes>"
      ]
     },
     "metadata": {},
     "output_type": "display_data"
    }
   ],
   "source": [
    "nx = 200\n",
    "ny = 50\n",
    "xpts = np.linspace(0,2*np.pi,nx)\n",
    "ypts = np.linspace(0,np.pi/2,ny)\n",
    "data = np.zeros(nx*ny)\n",
    "step = 0\n",
    "for x in xpts:\n",
    "    for y in ypts:\n",
    "        data[step] = np.cos(x)+np.sin(y)\n",
    "        step += 1\n",
    "fig,ax = plt.subplots()\n",
    "ax.imshow(data.reshape((nx,ny)),extent=[ypts[0],ypts[-1],xpts[0],xpts[-1]])\n",
    "ax.set_aspect((ypts[-1]-ypts[0])/(xpts[-1]-xpts[0]))\n",
    "ax.set_xlabel(\"x\")\n",
    "ax.set_ylabel(\"y\")"
   ]
  },
  {
   "cell_type": "code",
   "execution_count": null,
   "id": "d91101c0",
   "metadata": {},
   "outputs": [],
   "source": []
  }
 ],
 "metadata": {
  "kernelspec": {
   "display_name": "Python 3 (ipykernel)",
   "language": "python",
   "name": "python3"
  },
  "language_info": {
   "codemirror_mode": {
    "name": "ipython",
    "version": 3
   },
   "file_extension": ".py",
   "mimetype": "text/x-python",
   "name": "python",
   "nbconvert_exporter": "python",
   "pygments_lexer": "ipython3",
   "version": "3.10.10"
  }
 },
 "nbformat": 4,
 "nbformat_minor": 5
}
