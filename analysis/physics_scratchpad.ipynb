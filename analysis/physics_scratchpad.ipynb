{
 "cells": [
  {
   "cell_type": "code",
   "execution_count": 13,
   "id": "cca6fc38",
   "metadata": {},
   "outputs": [],
   "source": [
    "from numpy import *"
   ]
  },
  {
   "cell_type": "code",
   "execution_count": 14,
   "id": "9dba6001",
   "metadata": {},
   "outputs": [
    {
     "data": {
      "text/plain": [
       "0.5858785092107289"
      ]
     },
     "execution_count": 14,
     "metadata": {},
     "output_type": "execute_result"
    }
   ],
   "source": [
    "delta = 2*pi*15e6\n",
    "gamma = 2*pi*6e6\n",
    "s = 6*9 # I/Isat for 6 beams, ignoring quantization axis of atom and interference\n",
    "r=gamma*(0.5*s/(1+4*(delta/gamma)**2+s))/1e6\n",
    "mirror =arcsin(0.61)/(2*pi)\n",
    "fiber= 0.7\n",
    "det = 0.7\n",
    "bp = 0.9\n",
    "r*mirror*fiber*det*bp"
   ]
  },
  {
   "cell_type": "code",
   "execution_count": 7,
   "id": "c6eb0a76",
   "metadata": {},
   "outputs": [
    {
     "data": {
      "text/plain": [
       "0.10441528601349129"
      ]
     },
     "execution_count": 7,
     "metadata": {},
     "output_type": "execute_result"
    }
   ],
   "source": []
  },
  {
   "cell_type": "code",
   "execution_count": null,
   "id": "fd3f3780",
   "metadata": {},
   "outputs": [],
   "source": []
  }
 ],
 "metadata": {
  "kernelspec": {
   "display_name": "Python 3 (ipykernel)",
   "language": "python",
   "name": "python3"
  },
  "language_info": {
   "codemirror_mode": {
    "name": "ipython",
    "version": 3
   },
   "file_extension": ".py",
   "mimetype": "text/x-python",
   "name": "python",
   "nbconvert_exporter": "python",
   "pygments_lexer": "ipython3",
   "version": "3.10.10"
  }
 },
 "nbformat": 4,
 "nbformat_minor": 5
}
